{
 "cells": [
  {
   "cell_type": "markdown",
   "metadata": {
    "deletable": true,
    "editable": true
   },
   "source": [
    "# Self-Driving Car Engineer Nanodegree\n",
    "\n",
    "## Deep Learning\n",
    "\n",
    "## Project: Build a Traffic Sign Recognition Classifier\n",
    "\n",
    "In this notebook, a template is provided for you to implement your functionality in stages, which is required to successfully complete this project. If additional code is required that cannot be included in the notebook, be sure that the Python code is successfully imported and included in your submission if necessary. \n",
    "\n",
    "> **Note**: Once you have completed all of the code implementations, you need to finalize your work by exporting the iPython Notebook as an HTML document. Before exporting the notebook to html, all of the code cells need to have been run so that reviewers can see the final implementation and output. You can then export the notebook by using the menu above and navigating to  \\n\",\n",
    "    \"**File -> Download as -> HTML (.html)**. Include the finished document along with this notebook as your submission. \n",
    "\n",
    "In addition to implementing code, there is a writeup to complete. The writeup should be completed in a separate file, which can be either a markdown file or a pdf document. There is a [write up template](https://github.com/udacity/CarND-Traffic-Sign-Classifier-Project/blob/master/writeup_template.md) that can be used to guide the writing process. Completing the code template and writeup template will cover all of the [rubric points](https://review.udacity.com/#!/rubrics/481/view) for this project.\n",
    "\n",
    "The [rubric](https://review.udacity.com/#!/rubrics/481/view) contains \"Stand Out Suggestions\" for enhancing the project beyond the minimum requirements. The stand out suggestions are optional. If you decide to pursue the \"stand out suggestions\", you can include the code in this Ipython notebook and also discuss the results in the writeup file.\n",
    "\n",
    "\n",
    ">**Note:** Code and Markdown cells can be executed using the **Shift + Enter** keyboard shortcut. In addition, Markdown cells can be edited by typically double-clicking the cell to enter edit mode."
   ]
  },
  {
   "cell_type": "markdown",
   "metadata": {
    "deletable": true,
    "editable": true
   },
   "source": [
    "---\n",
    "## Step 0: Load The Data"
   ]
  },
  {
   "cell_type": "code",
   "execution_count": 1,
   "metadata": {
    "collapsed": false,
    "deletable": true,
    "editable": true
   },
   "outputs": [],
   "source": [
    "# Load pickled data\n",
    "import pickle\n",
    "\n",
    "# TODO: Fill this in based on where you saved the training and testing data\n",
    "# Solution:\n",
    "training_file = \"traffic-signs-data/train.p\"\n",
    "validation_file= \"traffic-signs-data/valid.p\"\n",
    "testing_file = \"traffic-signs-data/test.p\"\n",
    "\n",
    "with open(training_file, mode='rb') as f:\n",
    "    train = pickle.load(f)\n",
    "with open(validation_file, mode='rb') as f:\n",
    "    valid = pickle.load(f)\n",
    "with open(testing_file, mode='rb') as f:\n",
    "    test = pickle.load(f)\n",
    "    \n",
    "X_train, y_train = train['features'], train['labels']\n",
    "X_valid, y_valid = valid['features'], valid['labels']\n",
    "X_test, y_test = test['features'], test['labels']\n"
   ]
  },
  {
   "cell_type": "markdown",
   "metadata": {
    "deletable": true,
    "editable": true
   },
   "source": [
    "---\n",
    "\n",
    "## Step 1: Dataset Summary & Exploration\n",
    "\n",
    "The pickled data is a dictionary with 4 key/value pairs:\n",
    "\n",
    "- `'features'` is a 4D array containing raw pixel data of the traffic sign images, (num examples, width, height, channels).\n",
    "- `'labels'` is a 1D array containing the label/class id of the traffic sign. The file `signnames.csv` contains id -> name mappings for each id.\n",
    "- `'sizes'` is a list containing tuples, (width, height) representing the the original width and height the image.\n",
    "- `'coords'` is a list containing tuples, (x1, y1, x2, y2) representing coordinates of a bounding box around the sign in the image. **THESE COORDINATES ASSUME THE ORIGINAL IMAGE. THE PICKLED DATA CONTAINS RESIZED VERSIONS (32 by 32) OF THESE IMAGES**\n",
    "\n",
    "Complete the basic data summary below. Use python, numpy and/or pandas methods to calculate the data summary rather than hard coding the results. For example, the [pandas shape method](http://pandas.pydata.org/pandas-docs/stable/generated/pandas.DataFrame.shape.html) might be useful for calculating some of the summary results. "
   ]
  },
  {
   "cell_type": "markdown",
   "metadata": {
    "deletable": true,
    "editable": true
   },
   "source": [
    "### Provide a Basic Summary of the Data Set Using Python, Numpy and/or Pandas"
   ]
  },
  {
   "cell_type": "code",
   "execution_count": 2,
   "metadata": {
    "collapsed": false,
    "deletable": true,
    "editable": true
   },
   "outputs": [
    {
     "name": "stdout",
     "output_type": "stream",
     "text": [
      "Number of training examples = 34799\n",
      "Number of testing examples = 12630\n",
      "Image data shape = (32, 32, 3)\n",
      "Number of classes = 43\n"
     ]
    }
   ],
   "source": [
    "### Replace each question mark with the appropriate value. \n",
    "### Use python, pandas or numpy methods rather than hard coding the results\n",
    "\n",
    "# TODO: Number of training examples\n",
    "# Solution: Use first dimension of Numpy array.\n",
    "n_train = train['features'].shape[0]\n",
    "\n",
    "# TODO: Number of testing examples.\n",
    "# Solution: Use first dimension of Numpy array.\n",
    "n_test = test['features'].shape[0]\n",
    "\n",
    "# TODO: What's the shape of an traffic sign image?\n",
    "# Solution: Use dimensions 2 and 3 of the Numpy array are the width and height\n",
    "# dimension 4 is the number of channels.\n",
    "image_shape = train['features'].shape[1:]\n",
    "\n",
    "# TODO: How many unique classes/labels there are in the dataset.\n",
    "n_classes = len(set(train['labels']))\n",
    "\n",
    "print(\"Number of training examples =\", n_train)\n",
    "print(\"Number of testing examples =\", n_test)\n",
    "print(\"Image data shape =\", image_shape)\n",
    "print(\"Number of classes =\", n_classes)\n"
   ]
  },
  {
   "cell_type": "markdown",
   "metadata": {
    "deletable": true,
    "editable": true
   },
   "source": [
    "### Include an exploratory visualization of the dataset"
   ]
  },
  {
   "cell_type": "markdown",
   "metadata": {
    "deletable": true,
    "editable": true
   },
   "source": [
    "Visualize the German Traffic Signs Dataset using the pickled file(s). This is open ended, suggestions include: plotting traffic sign images, plotting the count of each sign, etc.\n",
    "\n",
    "The [Matplotlib](http://matplotlib.org/) [examples](http://matplotlib.org/examples/index.html) and [gallery](http://matplotlib.org/gallery.html) pages are a great resource for doing visualizations in Python.\n",
    "\n",
    "**NOTE:** It's recommended you start with something simple first. If you wish to do more, come back to it after you've completed the rest of the sections."
   ]
  },
  {
   "cell_type": "code",
   "execution_count": 39,
   "metadata": {
    "collapsed": false,
    "deletable": true,
    "editable": true
   },
   "outputs": [
    {
     "data": {
      "image/png": "[encoded data removed]",
      "text/plain": [
       "<matplotlib.figure.Figure at 0x7f2087913e48>"
      ]
     },
     "metadata": {},
     "output_type": "display_data"
    },
    {
     "data": {
      "image/png": "[encoded data removed]",
      "text/plain": [
       "<matplotlib.figure.Figure at 0x7f20850eaa90>"
      ]
     },
     "metadata": {},
     "output_type": "display_data"
    },
    {
     "name": "stdout",
     "output_type": "stream",
     "text": [
      "Training image number: 6600\n"
     ]
    },
    {
     "data": {
      "image/png": "[encoded data removed]",
      "text/plain": [
       "<matplotlib.figure.Figure at 0x7f208a74c9e8>"
      ]
     },
     "metadata": {},
     "output_type": "display_data"
    },
    {
     "name": "stdout",
     "output_type": "stream",
     "text": [
      "Training image number: 20676\n"
     ]
    },
    {
     "data": {
      "image/png": "[encoded data removed]",
      "text/plain": [
       "<matplotlib.figure.Figure at 0x7f208a7a5c18>"
      ]
     },
     "metadata": {},
     "output_type": "display_data"
    },
    {
     "name": "stdout",
     "output_type": "stream",
     "text": [
      "Training image number: 19842\n"
     ]
    },
    {
     "data": {
      "image/png": "[encoded data removed]",
      "text/plain": [
       "<matplotlib.figure.Figure at 0x7f208a6c91d0>"
      ]
     },
     "metadata": {},
     "output_type": "display_data"
    },
    {
     "name": "stdout",
     "output_type": "stream",
     "text": [
      "Training image number: 10507\n"
     ]
    },
    {
     "data": {
      "image/png": "[encoded data removed]",
      "text/plain": [
       "<matplotlib.figure.Figure at 0x7f208a6adc50>"
      ]
     },
     "metadata": {},
     "output_type": "display_data"
    }
   ],
   "source": [
    "### Data exploration visualization code goes here.\n",
    "### Feel free to use as many code cells as needed.\n",
    "import matplotlib.pyplot as plt\n",
    "import matplotlib.image as mpimg\n",
    "import random\n",
    "# Visualizations will be shown in the notebook.\n",
    "%matplotlib inline\n",
    "plt.rcParams[\"figure.figsize\"] = (12,6)\n",
    "\n",
    "# Count population of each classification in the various sets.\n",
    "def census(data_set):\n",
    "    rv = {}\n",
    "    for label in data_set['labels']:\n",
    "        rv[label] = rv.get(label, 0) + 1\n",
    "    return rv\n",
    "\n",
    "train_census = census(train)\n",
    "valid_census = census(valid)\n",
    "test_census = census(test)\n",
    "#print ('training:', train_census)\n",
    "#print ('validation:', valid_census)\n",
    "#print ('test:', test_census)\n",
    "\n",
    "import numpy as np\n",
    "from ast import literal_eval\n",
    "\n",
    "# I edited signnames.csv into a Python dictionary for convenience.\n",
    "# Here I load up the class symbolic names.\n",
    "with open(\"signnames.map\") as f:\n",
    "    class_names = literal_eval(f.read())\n",
    "\n",
    "y_pos = np.arange(len(train_census))\n",
    "buckets = [k for k in train_census.keys()]\n",
    "bucket_names = [class_names[k] for k in buckets]\n",
    "[train_census[k] for k in buckets]\n",
    " \n",
    "plt.bar(y_pos, [train_census[k] for k in buckets], align='center')\n",
    "plt.xticks(y_pos, bucket_names, rotation='vertical')\n",
    "plt.show()\n",
    "plt.bar(y_pos, [valid_census[k] for k in buckets], align='center')\n",
    "plt.show()\n",
    "\n",
    "some_image_numbers = np.random.randint(len(train['features']), size=4)\n",
    "for n in some_image_numbers:\n",
    "    print ('Training image number:', n)\n",
    "    img = train['features'][n]\n",
    "    plt.figure(figsize=(1,1))\n",
    "    plt.imshow (img)\n",
    "    plt.show()\n"
   ]
  },
  {
   "cell_type": "markdown",
   "metadata": {
    "deletable": true,
    "editable": true
   },
   "source": [
    "----\n",
    "\n",
    "## Step 2: Design and Test a Model Architecture\n",
    "\n",
    "Design and implement a deep learning model that learns to recognize traffic signs. Train and test your model on the [German Traffic Sign Dataset](http://benchmark.ini.rub.de/?section=gtsrb&subsection=dataset).\n",
    "\n",
    "There are various aspects to consider when thinking about this problem:\n",
    "\n",
    "- Neural network architecture\n",
    "- Play around preprocessing techniques (normalization, rgb to grayscale, etc)\n",
    "- Number of examples per label (some have more than others).\n",
    "- Generate fake data.\n",
    "\n",
    "Here is an example of a [published baseline model on this problem](http://yann.lecun.com/exdb/publis/pdf/sermanet-ijcnn-11.pdf). It's not required to be familiar with the approach used in the paper but, it's good practice to try to read papers like these.\n",
    "\n",
    "**NOTE:** The LeNet-5 implementation shown in the [classroom](https://classroom.udacity.com/nanodegrees/nd013/parts/fbf77062-5703-404e-b60c-95b78b2f3f9e/modules/6df7ae49-c61c-4bb2-a23e-6527e69209ec/lessons/601ae704-1035-4287-8b11-e2c2716217ad/concepts/d4aca031-508f-4e0b-b493-e7b706120f81) at the end of the CNN lesson is a solid starting point. You'll have to change the number of classes and possibly the preprocessing, but aside from that it's plug and play!"
   ]
  },
  {
   "cell_type": "markdown",
   "metadata": {
    "deletable": true,
    "editable": true
   },
   "source": [
    "### Pre-process the Data Set (normalization, grayscale, etc.)"
   ]
  },
  {
   "cell_type": "markdown",
   "metadata": {
    "deletable": true,
    "editable": true
   },
   "source": [
    "Use the code cell (or multiple code cells, if necessary) to implement the first step of your project."
   ]
  },
  {
   "cell_type": "code",
   "execution_count": 40,
   "metadata": {
    "collapsed": true,
    "deletable": true,
    "editable": true
   },
   "outputs": [],
   "source": [
    "### Preprocess the data here. Preprocessing steps could include normalization, converting to grayscale, etc.\n",
    "### Feel free to use as many code cells as needed.\n",
    "from sklearn.utils import shuffle\n",
    "\n",
    "#X_train, y_train = shuffle(X_train, y_train)"
   ]
  },
  {
   "cell_type": "markdown",
   "metadata": {
    "deletable": true,
    "editable": true
   },
   "source": [
    "### Model Architecture\n",
    "After the LeNet-5 lab, it was clear that using Tensorflow involves doing a lot of error-prone bookkeeping. To address this problem, I created a neural net construction kit that handles the bookkeeping for constructing neural nets.  Surely other tools already exist, but I wanted the benefit of learning to do it myself.\n"
   ]
  },
  {
   "cell_type": "code",
   "execution_count": 13,
   "metadata": {
    "collapsed": false,
    "deletable": true,
    "editable": true
   },
   "outputs": [
    {
     "name": "stdout",
     "output_type": "stream",
     "text": [
      "Selected model: lenet-baseline\n",
      "Layer         Shape             Parameters\n",
      "=====         =====             ==========\n",
      "input         [32, 32, 3]       \n",
      "conv1         [28, 28, 6]       456\n",
      "conv1_relu    [28, 28, 6]       \n",
      "conv1_pool    [14, 14, 6]       \n",
      "conv2         [10, 10, 16]      2416\n",
      "conv2_relu    [10, 10, 16]      \n",
      "conv2_pool    [5, 5, 16]        \n",
      "flatten       [400]             \n",
      "fc1           [120]             48120\n",
      "fc1_relu      [120]             \n",
      "fc2           [84]              10164\n",
      "fc2_relu      [84]              \n",
      "fc3           [43]              3655\n",
      "Total parameters=64811\n"
     ]
    }
   ],
   "source": [
    "### Define your architecture here.\n",
    "### Feel free to use as many code cells as needed.\n",
    "\n",
    "import neuralnetconstructionkit as ck\n",
    "\n",
    "# Baseline mode.  The model from the LeNet lab, changed to support color and 43 classes.\n",
    "def build_lenet_baseline(mu, sigma):\n",
    "    model = ck.NeuralNetSpec([32,32,3], 'lenet-baseline')\n",
    "    model.add_convolution_stage('conv1', depth=6, aperture=5,\n",
    "        strides=1, padding='VALID', w_init=(mu, sigma), b_init=0)\n",
    "    model.add_relu_stage('conv1_relu')\n",
    "    model.add_pool_stage('conv1_pool')\n",
    "    model.add_convolution_stage('conv2', depth=16, aperture=5,\n",
    "        strides=1, padding='VALID',w_init=(mu, sigma), b_init=0)\n",
    "    model.add_relu_stage('conv2_relu')\n",
    "    model.add_pool_stage('conv2_pool')\n",
    "    model.flatten('flatten')\n",
    "    model.add_fully_connected_stage('fc1', 120, w_init=(mu, sigma), b_init=0)\n",
    "    model.add_relu_stage('fc1_relu')\n",
    "    model.add_fully_connected_stage('fc2', 84, w_init=(mu, sigma), b_init=0)\n",
    "    model.add_relu_stage('fc2_relu')\n",
    "    model.add_fully_connected_stage('fc3', 43, w_init=(mu, sigma), b_init=0)\n",
    "    return model\n",
    "\n",
    "model_builder, chk_dir, chk_name, log_name = [ build_lenet_baseline(mu=0.0, sigma=0.1),\n",
    "    'lenet-baseline02', 'lenet02', 'lenet02.log']\n",
    "\n",
    "#print (\"Selected model has\", model_builder.num_parameters, \"parameters.\")\n",
    "print (\"Selected model:\", model_builder.name)\n",
    "for line in model_builder.report():\n",
    "    print (line)"
   ]
  },
  {
   "cell_type": "markdown",
   "metadata": {
    "deletable": true,
    "editable": true
   },
   "source": [
    "### Train, Validate and Test the Model"
   ]
  },
  {
   "cell_type": "markdown",
   "metadata": {
    "deletable": true,
    "editable": true
   },
   "source": [
    "A validation set can be used to assess how well the model is performing. A low accuracy on the training and validation\n",
    "sets imply underfitting. A high accuracy on the test set but low accuracy on the validation set implies overfitting."
   ]
  },
  {
   "cell_type": "code",
   "execution_count": 4,
   "metadata": {
    "collapsed": false,
    "deletable": true,
    "editable": true
   },
   "outputs": [
    {
     "name": "stdout",
     "output_type": "stream",
     "text": [
      "(?, 32, 32, 3)\n",
      "(?, 43)\n"
     ]
    }
   ],
   "source": [
    "### Train your model here.\n",
    "### Calculate and report the accuracy on the training and validation set.\n",
    "### Once a final model architecture is selected, \n",
    "### the accuracy on the test set should be calculated and reported as well.\n",
    "### Feel free to use as many code cells as needed.\n",
    "\n",
    "import tensorflow as tf\n",
    "\n",
    "# One-hot encoding\n",
    "x = tf.placeholder(tf.float32, (None, 32, 32, 3), name='images')\n",
    "y = tf.placeholder(tf.int32, (None), name='labels')\n",
    "one_hot_y = tf.one_hot(y, 43)\n",
    "\n",
    "# Build the Tensorflow network.\n",
    "print (x.get_shape())\n",
    "logits = model_builder.network(x)\n",
    "print (logits.get_shape())"
   ]
  },
  {
   "cell_type": "code",
   "execution_count": 14,
   "metadata": {
    "collapsed": true,
    "deletable": true,
    "editable": true
   },
   "outputs": [],
   "source": [
    "# Training parameters\n",
    "EPOCHS = 100\n",
    "BATCH_SIZE = 128\n",
    "rate = 0.001\n",
    "\n",
    "# Create a saveable/restorable variable to hold the global step.\n",
    "global_step = tf.Variable(0, name='global_step', trainable=False)\n",
    "\n",
    "# Training computations\n",
    "cross_entropy = tf.nn.softmax_cross_entropy_with_logits(logits, one_hot_y)\n",
    "loss_operation = tf.reduce_mean(cross_entropy)\n",
    "optimizer = tf.train.AdamOptimizer(learning_rate = rate)\n",
    "training_operation = optimizer.minimize(loss_operation) #, global_step=global_step)\n",
    "\n",
    "# Evaluate\n",
    "correct_prediction = tf.equal(tf.argmax(logits, 1), tf.argmax(one_hot_y, 1))\n",
    "accuracy_operation = tf.reduce_mean(tf.cast(correct_prediction, tf.float32))\n",
    "saver = tf.train.Saver()\n",
    "\n",
    "def evaluate(X_data, y_data):\n",
    "    num_examples = len(X_data)\n",
    "    total_accuracy = 0\n",
    "    sess = tf.get_default_session()\n",
    "    for offset in range(0, num_examples, BATCH_SIZE):\n",
    "        batch_x, batch_y = X_data[offset:offset+BATCH_SIZE], y_data[offset:offset+BATCH_SIZE]\n",
    "        accuracy = sess.run(accuracy_operation, feed_dict={x: batch_x, y: batch_y})\n",
    "        total_accuracy += (accuracy * len(batch_x))\n",
    "    return total_accuracy / num_examples\n"
   ]
  },
  {
   "cell_type": "code",
   "execution_count": 56,
   "metadata": {
    "collapsed": false,
    "deletable": true,
    "editable": true
   },
   "outputs": [
    {
     "name": "stdout",
     "output_type": "stream",
     "text": [
      "Training...\n",
      "\n",
      "EPOCH 1 ...\n",
      "Validation Accuracy = 0.714\n",
      "\n",
      "EPOCH 2 ...\n",
      "Validation Accuracy = 0.714\n",
      "\n",
      "EPOCH 3 ...\n",
      "Validation Accuracy = 0.725\n",
      "\n",
      "EPOCH 4 ...\n",
      "Validation Accuracy = 0.699\n",
      "\n",
      "EPOCH 5 ...\n",
      "Validation Accuracy = 0.715\n",
      "\n",
      "EPOCH 6 ...\n",
      "Validation Accuracy = 0.719\n",
      "\n",
      "EPOCH 7 ...\n",
      "Validation Accuracy = 0.711\n",
      "\n",
      "EPOCH 8 ...\n",
      "Validation Accuracy = 0.729\n",
      "\n",
      "EPOCH 9 ...\n",
      "Validation Accuracy = 0.730\n",
      "\n",
      "EPOCH 10 ...\n",
      "Validation Accuracy = 0.717\n",
      "\n",
      "EPOCH 11 ...\n",
      "Validation Accuracy = 0.728\n",
      "\n",
      "EPOCH 12 ...\n",
      "Validation Accuracy = 0.707\n",
      "\n",
      "EPOCH 13 ...\n",
      "Validation Accuracy = 0.709\n",
      "\n",
      "EPOCH 14 ...\n",
      "Validation Accuracy = 0.728\n",
      "\n",
      "EPOCH 15 ...\n",
      "Validation Accuracy = 0.722\n",
      "\n",
      "EPOCH 16 ...\n",
      "Validation Accuracy = 0.732\n",
      "\n",
      "EPOCH 17 ...\n",
      "Validation Accuracy = 0.734\n",
      "\n",
      "EPOCH 18 ...\n",
      "Validation Accuracy = 0.729\n",
      "\n",
      "EPOCH 19 ...\n",
      "Validation Accuracy = 0.737\n",
      "\n",
      "EPOCH 20 ...\n",
      "Validation Accuracy = 0.736\n",
      "\n",
      "EPOCH 21 ...\n",
      "Validation Accuracy = 0.736\n",
      "\n",
      "EPOCH 22 ...\n",
      "Validation Accuracy = 0.730\n",
      "\n",
      "EPOCH 23 ...\n",
      "Validation Accuracy = 0.737\n",
      "\n",
      "EPOCH 24 ...\n",
      "Validation Accuracy = 0.725\n",
      "\n",
      "EPOCH 25 ...\n",
      "Validation Accuracy = 0.734\n",
      "\n",
      "EPOCH 26 ...\n",
      "Validation Accuracy = 0.707\n",
      "\n",
      "EPOCH 27 ...\n",
      "Validation Accuracy = 0.716\n",
      "\n",
      "EPOCH 28 ...\n",
      "Validation Accuracy = 0.728\n",
      "\n",
      "EPOCH 29 ...\n",
      "Validation Accuracy = 0.667\n",
      "\n",
      "EPOCH 30 ...\n",
      "Validation Accuracy = 0.690\n",
      "\n",
      "EPOCH 31 ...\n",
      "Validation Accuracy = 0.712\n",
      "\n",
      "EPOCH 32 ...\n",
      "Validation Accuracy = 0.728\n",
      "\n",
      "EPOCH 33 ...\n",
      "Validation Accuracy = 0.715\n",
      "\n",
      "EPOCH 34 ...\n",
      "Validation Accuracy = 0.726\n",
      "\n",
      "EPOCH 35 ...\n",
      "Validation Accuracy = 0.734\n",
      "\n",
      "EPOCH 36 ...\n",
      "Validation Accuracy = 0.741\n",
      "\n",
      "EPOCH 37 ...\n",
      "Validation Accuracy = 0.738\n",
      "\n",
      "EPOCH 38 ...\n",
      "Validation Accuracy = 0.741\n",
      "\n",
      "EPOCH 39 ...\n",
      "Validation Accuracy = 0.738\n",
      "\n",
      "EPOCH 40 ...\n",
      "Validation Accuracy = 0.745\n",
      "\n",
      "EPOCH 41 ...\n",
      "Validation Accuracy = 0.726\n",
      "\n",
      "EPOCH 42 ...\n",
      "Validation Accuracy = 0.745\n",
      "\n",
      "EPOCH 43 ...\n",
      "Validation Accuracy = 0.736\n",
      "\n",
      "EPOCH 44 ...\n",
      "Validation Accuracy = 0.719\n",
      "\n",
      "EPOCH 45 ...\n",
      "Validation Accuracy = 0.732\n",
      "\n",
      "EPOCH 46 ...\n",
      "Validation Accuracy = 0.727\n",
      "\n",
      "EPOCH 47 ...\n",
      "Validation Accuracy = 0.736\n",
      "\n",
      "EPOCH 48 ...\n",
      "Validation Accuracy = 0.729\n",
      "\n",
      "EPOCH 49 ...\n",
      "Validation Accuracy = 0.733\n",
      "\n",
      "EPOCH 50 ...\n",
      "Validation Accuracy = 0.738\n",
      "\n",
      "Model saved\n"
     ]
    }
   ],
   "source": [
    "# Train the model\n",
    "with tf.Session() as sess:\n",
    "    if tf.train.latest_checkpoint('.') is None:\n",
    "        sess.run(tf.global_variables_initializer())\n",
    "    else:\n",
    "        saver.restore(sess, tf.train.latest_checkpoint('.'))\n",
    "        \n",
    "    num_examples = len(X_train)\n",
    "    \n",
    "    print(\"Training...\")\n",
    "    print()\n",
    "    for i in range(EPOCHS):\n",
    "        X_train, y_train = shuffle(X_train, y_train)\n",
    "        for offset in range(0, num_examples, BATCH_SIZE):\n",
    "            end = offset + BATCH_SIZE\n",
    "            batch_x, batch_y = X_train[offset:end], y_train[offset:end]\n",
    "            sess.run(training_operation, feed_dict={x: batch_x, y: batch_y})\n",
    "            \n",
    "        validation_accuracy = evaluate(X_valid, y_valid)\n",
    "        print(\"EPOCH {} ...\".format(i+1))\n",
    "        print(\"Validation Accuracy = {:.3f}\".format(validation_accuracy))\n",
    "        print()\n",
    "        \n",
    "    saver.save(sess, './lenet-baseline_ck')\n",
    "    print(\"Model saved\")"
   ]
  },
  {
   "cell_type": "code",
   "execution_count": 15,
   "metadata": {
    "collapsed": false,
    "deletable": true,
    "editable": true
   },
   "outputs": [
    {
     "name": "stdout",
     "output_type": "stream",
     "text": [
      "Training...\n",
      "\n",
      "EPOCH 1 ...\n",
      "Validation Accuracy = 0.054\n",
      "Model saved.\n",
      "\n",
      "EPOCH 51 ...\n",
      "Validation Accuracy = 0.214\n",
      "Model saved.\n",
      "\n",
      "EPOCH 100 ...\n",
      "Validation Accuracy = 0.223\n",
      "Model saved on end of training session.\n"
     ]
    }
   ],
   "source": [
    "# Revised trainer\n",
    "from os import path, makedirs\n",
    "from sklearn.utils import shuffle\n",
    "\n",
    "\n",
    "makedirs(path.join('.', chk_dir),exist_ok=True)\n",
    "with open(path.join('.', chk_dir, log_name), 'a') as logfile:\n",
    "    with tf.Session() as sess:\n",
    "        if tf.train.latest_checkpoint(path.join('.', chk_dir)) is None:\n",
    "            sess.run(tf.global_variables_initializer())\n",
    "        else:\n",
    "            saver.restore(sess, tf.train.latest_checkpoint(path.join('.', chk_dir)))\n",
    "\n",
    "        num_examples = len(X_train)\n",
    "\n",
    "        print(\"Training...\")\n",
    "        print()\n",
    "        for i in range(EPOCHS):\n",
    "            X_train, y_train = shuffle(X_train, y_train)\n",
    "            for offset in range(0, num_examples, BATCH_SIZE):\n",
    "                end = offset + BATCH_SIZE\n",
    "                batch_x, batch_y = X_train[offset:end], y_train[offset:end]\n",
    "                sess.run(training_operation, feed_dict={x: batch_x, y: batch_y})\n",
    "                \n",
    "            current_step = sess.run(global_step)\n",
    "            validation_accuracy = evaluate(X_valid, y_valid)\n",
    "            # Write current accuracy to log file.\n",
    "            logfile.write('{0:d}/{1:d} {2:d} {3:.3f}\\n'.format(\n",
    "                i, EPOCHS, current_step, validation_accuracy))\n",
    "            logfile.flush() # Flush every write so tail -f foo.log follows nicely.\n",
    "        \n",
    "            # Checkpoint the model every so often.\n",
    "            if (i % 50) == 0:\n",
    "                saver.save(sess, path.join('.', chk_dir, chk_name))\n",
    "                print(\"EPOCH {} ...\".format(i))\n",
    "                print(\"Validation Accuracy = {:.3f}\".format(validation_accuracy))\n",
    "                print(\"Model saved.\")\n",
    "                print()\n",
    "                \n",
    "        # And maybe one last save at the end of the training session...\n",
    "        if (i % 50) != 0:\n",
    "            saver.save(sess, path.join('.', chk_dir, chk_name))\n",
    "            print(\"EPOCH {} ...\".format(i))\n",
    "            print(\"Validation Accuracy = {:.3f}\".format(validation_accuracy))\n",
    "            print(\"Model saved on end of training session.\")\n"
   ]
  },
  {
   "cell_type": "markdown",
   "metadata": {
    "deletable": true,
    "editable": true
   },
   "source": [
    "---\n",
    "\n",
    "## Step 3: Test a Model on New Images\n",
    "\n",
    "To give yourself more insight into how your model is working, download at least five pictures of German traffic signs from the web and use your model to predict the traffic sign type.\n",
    "\n",
    "You may find `signnames.csv` useful as it contains mappings from the class id (integer) to the actual sign name."
   ]
  },
  {
   "cell_type": "markdown",
   "metadata": {
    "deletable": true,
    "editable": true
   },
   "source": [
    "### Load and Output the Images"
   ]
  },
  {
   "cell_type": "code",
   "execution_count": null,
   "metadata": {
    "collapsed": true,
    "deletable": true,
    "editable": true
   },
   "outputs": [],
   "source": [
    "### Load the images and plot them here.\n",
    "### Feel free to use as many code cells as needed."
   ]
  },
  {
   "cell_type": "markdown",
   "metadata": {
    "deletable": true,
    "editable": true
   },
   "source": [
    "### Predict the Sign Type for Each Image"
   ]
  },
  {
   "cell_type": "code",
   "execution_count": 3,
   "metadata": {
    "collapsed": true,
    "deletable": true,
    "editable": true
   },
   "outputs": [],
   "source": [
    "### Run the predictions here and use the model to output the prediction for each image.\n",
    "### Make sure to pre-process the images with the same pre-processing pipeline used earlier.\n",
    "### Feel free to use as many code cells as needed."
   ]
  },
  {
   "cell_type": "markdown",
   "metadata": {
    "deletable": true,
    "editable": true
   },
   "source": [
    "### Analyze Performance"
   ]
  },
  {
   "cell_type": "code",
   "execution_count": 4,
   "metadata": {
    "collapsed": true,
    "deletable": true,
    "editable": true
   },
   "outputs": [],
   "source": [
    "### Calculate the accuracy for these 5 new images. \n",
    "### For example, if the model predicted 1 out of 5 signs correctly, it's 20% accurate on these new images."
   ]
  },
  {
   "cell_type": "markdown",
   "metadata": {
    "deletable": true,
    "editable": true
   },
   "source": [
    "### Output Top 5 Softmax Probabilities For Each Image Found on the Web"
   ]
  },
  {
   "cell_type": "markdown",
   "metadata": {
    "deletable": true,
    "editable": true
   },
   "source": [
    "For each of the new images, print out the model's softmax probabilities to show the **certainty** of the model's predictions (limit the output to the top 5 probabilities for each image). [`tf.nn.top_k`](https://www.tensorflow.org/versions/r0.12/api_docs/python/nn.html#top_k) could prove helpful here. \n",
    "\n",
    "The example below demonstrates how tf.nn.top_k can be used to find the top k predictions for each image.\n",
    "\n",
    "`tf.nn.top_k` will return the values and indices (class ids) of the top k predictions. So if k=3, for each sign, it'll return the 3 largest probabilities (out of a possible 43) and the correspoding class ids.\n",
    "\n",
    "Take this numpy array as an example. The values in the array represent predictions. The array contains softmax probabilities for five candidate images with six possible classes. `tk.nn.top_k` is used to choose the three classes with the highest probability:\n",
    "\n",
    "```\n",
    "# (5, 6) array\n",
    "a = np.array([[ 0.24879643,  0.07032244,  0.12641572,  0.34763842,  0.07893497,\n",
    "         0.12789202],\n",
    "       [ 0.28086119,  0.27569815,  0.08594638,  0.0178669 ,  0.18063401,\n",
    "         0.15899337],\n",
    "       [ 0.26076848,  0.23664738,  0.08020603,  0.07001922,  0.1134371 ,\n",
    "         0.23892179],\n",
    "       [ 0.11943333,  0.29198961,  0.02605103,  0.26234032,  0.1351348 ,\n",
    "         0.16505091],\n",
    "       [ 0.09561176,  0.34396535,  0.0643941 ,  0.16240774,  0.24206137,\n",
    "         0.09155967]])\n",
    "```\n",
    "\n",
    "Running it through `sess.run(tf.nn.top_k(tf.constant(a), k=3))` produces:\n",
    "\n",
    "```\n",
    "TopKV2(values=array([[ 0.34763842,  0.24879643,  0.12789202],\n",
    "       [ 0.28086119,  0.27569815,  0.18063401],\n",
    "       [ 0.26076848,  0.23892179,  0.23664738],\n",
    "       [ 0.29198961,  0.26234032,  0.16505091],\n",
    "       [ 0.34396535,  0.24206137,  0.16240774]]), indices=array([[3, 0, 5],\n",
    "       [0, 1, 4],\n",
    "       [0, 5, 1],\n",
    "       [1, 3, 5],\n",
    "       [1, 4, 3]], dtype=int32))\n",
    "```\n",
    "\n",
    "Looking just at the first row we get `[ 0.34763842,  0.24879643,  0.12789202]`, you can confirm these are the 3 largest probabilities in `a`. You'll also notice `[3, 0, 5]` are the corresponding indices."
   ]
  },
  {
   "cell_type": "code",
   "execution_count": 6,
   "metadata": {
    "collapsed": true,
    "deletable": true,
    "editable": true
   },
   "outputs": [],
   "source": [
    "### Print out the top five softmax probabilities for the predictions on the German traffic sign images found on the web. \n",
    "### Feel free to use as many code cells as needed."
   ]
  },
  {
   "cell_type": "markdown",
   "metadata": {
    "deletable": true,
    "editable": true
   },
   "source": [
    "> **Note**: Once you have completed all of the code implementations, you need to finalize your work by exporting the IPython Notebook as an HTML document. Before exporting the notebook to html, all of the code cells need to have been run. You can then export the notebook by using the menu above and navigating to  \\n\",\n",
    "    \"**File -> Download as -> HTML (.html)**. Include the finished document along with this notebook as your submission. "
   ]
  },
  {
   "cell_type": "markdown",
   "metadata": {
    "deletable": true,
    "editable": true
   },
   "source": [
    "### Project Writeup\n",
    "\n",
    "Once you have completed the code implementation, document your results in a project writeup using this [template](https://github.com/udacity/CarND-Traffic-Sign-Classifier-Project/blob/master/writeup_template.md) as a guide. The writeup can be in a markdown or pdf file. "
   ]
  }
 ],
 "metadata": {
  "anaconda-cloud": {},
  "kernelspec": {
   "display_name": "Python 3",
   "language": "python",
   "name": "python3"
  },
  "language_info": {
   "codemirror_mode": {
    "name": "ipython",
    "version": 3
   },
   "file_extension": ".py",
   "mimetype": "text/x-python",
   "name": "python",
   "nbconvert_exporter": "python",
   "pygments_lexer": "ipython3",
   "version": "3.5.2"
  },
  "widgets": {
   "state": {},
   "version": "1.1.2"
  }
 },
 "nbformat": 4,
 "nbformat_minor": 1
}
